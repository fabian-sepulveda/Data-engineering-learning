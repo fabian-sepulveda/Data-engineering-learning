{
 "cells": [
  {
   "cell_type": "markdown",
   "metadata": {},
   "source": [
    "En este código, mostrare mis aprendizajes acerca del modulo dedicado a Docker y postgres\n"
   ]
  },
  {
   "cell_type": "markdown",
   "metadata": {},
   "source": [
    "**Pipeline** : Es una estructura compleja, que cuenta de varios procesos, pero el objetivo principal es recibir la información de un origen o varios origenes, y procesar/trabajarla/entregarla en un formato, puede ser una tabla de postgres o cualquier formato que lo unifique."
   ]
  },
  {
   "cell_type": "markdown",
   "metadata": {},
   "source": [
    "**Docker** : Esta tecnología se centra en dividir las maquinas en contenedores, de esta forma podemos trabajar en una sola maquina host, diversos entornos, y segmentar nuestra arquitectura. En un contenedor podemos tener el Pipeline y en otro podemos tener nuestra base de datos.\n",
    "\n",
    "No solamente esto, el tener un contenedor, nos da escabilidad y podemos usarlo en otro computador host totalmente distinto, como lo serian los kubernetes de Google Cloud o AWS Batch. Es decir, nos aseguramos que el pipelina y todo el trabajo no solo funcione en mi computadora local, sino que pueda ser ejecutado en cualquier entorno. Ya que hemos seteado tanto el sistema operativo, las versiones y librerias (Entre otras cosas) que permiten a nuestro código desarrollarse."
   ]
  },
  {
   "cell_type": "code",
   "execution_count": null,
   "metadata": {},
   "outputs": [],
   "source": []
  }
 ],
 "metadata": {
  "language_info": {
   "name": "python"
  }
 },
 "nbformat": 4,
 "nbformat_minor": 2
}
